{
 "cells": [
  {
   "cell_type": "markdown",
   "id": "3a68796e",
   "metadata": {},
   "source": [
    "# Práctica m51\n",
    "### Copia y pega las clases que creaste en el ejercicio anterior dentro de tu proyecto Django."
   ]
  },
  {
   "cell_type": "code",
   "execution_count": null,
   "id": "e9f953c5",
   "metadata": {},
   "outputs": [],
   "source": [
    "#Ejemplo de herencia múltiple\n",
    "class Estudiante(object): #< -------- definir clase padre 1\n",
    "    def __init__(self, edad, nombre):\n",
    "        self.edad = edad\n",
    "        self.nombre = nombre\n",
    "        \n",
    "class Instituto(object):  #<-----Padre 2\n",
    "    def presentarInstituto(self):\n",
    "        print(\"Estudio en el Instituto de Leyes\")\n",
    "\n",
    "class Derecho(Estudiante, Instituto):#< --------- clase hija con herencia multiple\n",
    "    def presentarse(self):\n",
    "        print(f\"Soy {self.nombre} y tengo {self.edad} años y estudio Derecho\")\n",
    "\n",
    "Manuel = Derecho(26, \"Manuel Contreras\")\n",
    "Manuel.presentarse()\n",
    "Manuel.presentarInstituto()"
   ]
  },
  {
   "cell_type": "markdown",
   "id": "a5cedc01",
   "metadata": {},
   "source": [
    "#### El código anterior se copió y pegó en el directorio hellodjango/src/pages/views.py"
   ]
  }
 ],
 "metadata": {
  "language_info": {
   "name": "python"
  }
 },
 "nbformat": 4,
 "nbformat_minor": 5
}
